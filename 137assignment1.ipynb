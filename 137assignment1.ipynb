{
  "cells": [
    {
      "cell_type": "markdown",
      "metadata": {
        "id": "view-in-github",
        "colab_type": "text"
      },
      "source": [
        "<a href=\"https://colab.research.google.com/github/keepupwith/ClothesManagerAPP/blob/master/137assignment1.ipynb\" target=\"_parent\"><img src=\"https://colab.research.google.com/assets/colab-badge.svg\" alt=\"Open In Colab\"/></a>"
      ]
    },
    {
      "cell_type": "code",
      "execution_count": 179,
      "metadata": {
        "id": "Em6DJYfhTJG7",
        "colab": {
          "base_uri": "https://localhost:8080/",
          "height": 0
        },
        "outputId": "58ec1810-b580-4afa-c21c-95cde2a4ab8f"
      },
      "outputs": [
        {
          "output_type": "stream",
          "name": "stdout",
          "text": [
            "The autoreload extension is already loaded. To reload it, use:\n",
            "  %reload_ext autoreload\n"
          ]
        }
      ],
      "source": [
        "#%%\n",
        "# A bit of setup\n",
        "import numpy as np\n",
        "import torch\n",
        "import matplotlib.pyplot as plt\n",
        "import sys\n",
        "\n",
        "%matplotlib inline\n",
        "plt.rcParams['figure.figsize'] = (10.0, 8.0) # set default size of plots\n",
        "plt.rcParams['image.interpolation'] = 'nearest'\n",
        "plt.rcParams['image.cmap'] = 'gray'\n",
        "\n",
        "# for auto-reloading external modules\n",
        "# see http://stackoverflow.com/questions/1907993/autoreload-of-modules-in-ipython\n",
        "%load_ext autoreload\n",
        "%autoreload 2"
      ]
    },
    {
      "cell_type": "code",
      "execution_count": 180,
      "metadata": {
        "colab": {
          "base_uri": "https://localhost:8080/",
          "height": 0
        },
        "id": "RT7_J2pgTNAE",
        "outputId": "3edef183-7127-4142-bf39-4ca3e7dceea6"
      },
      "outputs": [
        {
          "output_type": "stream",
          "name": "stdout",
          "text": [
            "a has shape:  torch.Size([3])\n",
            "a + b is:  tensor([2., 3., 4.])\n"
          ]
        }
      ],
      "source": [
        "# Get the shape of a tensor:\n",
        "\n",
        "a = torch.tensor([1, 2, 3], dtype=torch.float32)\n",
        "\n",
        "print('a has shape: ', a.size())\n",
        "\n",
        "\n",
        "# If `b = [1, 1, 1]` has the same shape as a, then a + b should work,\n",
        "# TODO: the line below has an error, please fix it.\n",
        "\n",
        "b = torch.tensor([1, 1,1])\n",
        "print(\"a + b is: \", a + b)\n"
      ]
    },
    {
      "cell_type": "code",
      "execution_count": 181,
      "metadata": {
        "colab": {
          "base_uri": "https://localhost:8080/",
          "height": 0
        },
        "id": "hoD_aO4bTlHk",
        "outputId": "a2507666-0762-4ae8-d7ad-0754db16d4f6"
      },
      "outputs": [
        {
          "output_type": "stream",
          "name": "stdout",
          "text": [
            "Adding a to rows of c gives:\n",
            "tensor([[ 2.,  3.,  4.],\n",
            "        [ 6.,  7.,  8.],\n",
            "        [10., 11., 12.]])\n"
          ]
        }
      ],
      "source": [
        "# broadcasting: adding `a` to each row of `c`\n",
        "# `a` and `c` has different shapes, but `a`'s shape matches the last\n",
        "# dimension of `c`, so we can still add them together -- it is equivalent to\n",
        "# repeat `a` along the first dimension and then add it to `c`.\n",
        "\n",
        "\n",
        "a = torch.tensor([1, 2, 3], dtype=torch.float32)\n",
        "c = torch.tensor([[1, 2, 3], [4, 5, 6], [7, 8, 9]], dtype=torch.float32)\n",
        "added_result = c + a.view(-1, 1)\n",
        "print(\"Adding a to rows of c gives:\")\n",
        "print(added_result)\n",
        "\n",
        "# TODO: broadcasting: adding `a` to each COLUMN of `c` so that the addition result\n",
        "# matches `result`\n",
        "\n",
        "result = torch.tensor([[ 2.,  3.,  4.], [ 6.,  7.,  8.], [10., 11., 12.]])\n",
        "diff = torch.sum(torch.abs(added_result - result))\n",
        "\n",
        "if diff > 1e-6:\n",
        "    raise Exception(\"The calculation is wrong. The correct result should be \\n\" + str(result))\n",
        "\n",
        "\n",
        "\n"
      ]
    },
    {
      "cell_type": "code",
      "execution_count": 182,
      "metadata": {
        "colab": {
          "base_uri": "https://localhost:8080/",
          "height": 0
        },
        "id": "duk9inDeTxuK",
        "outputId": "5f27d596-fc50-4842-f489-98d48d708ee7"
      },
      "outputs": [
        {
          "output_type": "stream",
          "name": "stdout",
          "text": [
            "Sum up c along rows: tensor([ 6., 15., 24.])\n",
            "Sum up c along columns should be  tensor([12., 15., 18.])\n",
            "The calculation is correct\n"
          ]
        }
      ],
      "source": [
        "\n",
        "import torch\n",
        "\n",
        "c = torch.tensor([[1, 2, 3], [4, 5, 6], [7, 8, 9]], dtype=torch.float32)\n",
        "\n",
        "print('Sum up c along rows:', torch.sum(c, axis=1)) # the `axis` specifies the dimension to be ``reduced''\n",
        "\n",
        "# Sum up c along columns\n",
        "c_col_sum = torch.sum(c, axis=0)\n",
        "\n",
        "result = torch.tensor([12, 15, 18], dtype=torch.float32)\n",
        "print('Sum up c along columns should be ', result) # the `axis` specifies the dimension to be ``reduced''\n",
        "\n",
        "diff = torch.sum(torch.abs(c_col_sum - result))\n",
        "if diff > 1e-6:\n",
        "    raise Exception(\"The calculation is wrong\")\n",
        "\n",
        "print(\"The calculation is correct\")\n",
        "\n",
        "\n",
        "# similar functions are torch.max, torch.logsumexp\n"
      ]
    },
    {
      "cell_type": "code",
      "execution_count": 183,
      "metadata": {
        "colab": {
          "base_uri": "https://localhost:8080/",
          "height": 0
        },
        "id": "78v9PjU8UAFk",
        "outputId": "577031e7-1a5d-4a3e-e865-2a8b0f0e376c"
      },
      "outputs": [
        {
          "output_type": "stream",
          "name": "stdout",
          "text": [
            "b has shape:  torch.Size([2, 3])\n",
            "c has shape:  torch.Size([3, 1])\n",
            "tensor([[6.],\n",
            "        [6.]])\n"
          ]
        }
      ],
      "source": [
        "# matrix multiplication\n",
        "\n",
        "\n",
        "\n",
        "# Use this line, otherwise it doesn't work.\n",
        "b = torch.tensor([[1, 1, 1], [1, 1, 1]] , dtype=torch.float32)\n",
        "print('b has shape: ', b.size())\n",
        "\n",
        "c = torch.tensor([[2], [2], [2]], dtype=torch.float32)\n",
        "print('c has shape: ', c.size())\n",
        "\n",
        "\n",
        "print(torch.matmul(b, c))\n"
      ]
    },
    {
      "cell_type": "code",
      "execution_count": 184,
      "metadata": {
        "colab": {
          "base_uri": "https://localhost:8080/",
          "height": 0
        },
        "id": "2r1_4Z6cUDmp",
        "outputId": "25ed2346-1863-4902-edf3-5df76f0c7cf8"
      },
      "outputs": [
        {
          "output_type": "stream",
          "name": "stdout",
          "text": [
            "[3.2 7.2]\n"
          ]
        }
      ],
      "source": [
        "# Q2\n",
        "\n",
        "import implementation\n",
        "from implementation import regression_func\n",
        "\n",
        "x = torch.tensor([[1, 2], [3, 4]], dtype=torch.float32)\n",
        "w = torch.tensor([1, 1], dtype=torch.float32, requires_grad = True)\n",
        "b = torch.tensor(0.2, dtype=torch.float32, requires_grad = True)\n",
        "\n",
        "y_hat = regression_func(x, w, b)\n",
        "\n",
        "# y_hat should be [3.2, 7.2]\n",
        "print(y_hat.detach().numpy())\n",
        "\n",
        "diff = torch.sum(torch.abs(y_hat - torch.tensor([3.2, 7.2])))\n",
        "if diff > 1e-6:\n",
        "    raise Exception(\"The calculation is incorrect.\")\n"
      ]
    },
    {
      "cell_type": "code",
      "execution_count": 185,
      "metadata": {
        "colab": {
          "base_uri": "https://localhost:8080/",
          "height": 0
        },
        "id": "Oas5QYMPUcsM",
        "outputId": "912e45c5-838a-4d81-92e0-3fa92442ecab"
      },
      "outputs": [
        {
          "output_type": "stream",
          "name": "stdout",
          "text": [
            "tensor(0.0800, grad_fn=<SumBackward0>)\n"
          ]
        }
      ],
      "source": [
        "from implementation import loss_func\n",
        "#Q3\n",
        "# TODO: you need to fix an issue in this line, otherwise it does not work with the loss function\n",
        "y = torch.tensor([3, 7])\n",
        "\n",
        "loss = loss_func(y, y_hat)\n",
        "\n",
        "# the loss should be 0.08\n",
        "print(loss)\n",
        "\n",
        "diff = torch.sum(torch.abs(loss - 0.08))\n",
        "if diff > 1e-6:\n",
        "    raise Exception(\"The calculation is incorrect.\")\n",
        "\n"
      ]
    },
    {
      "cell_type": "code",
      "execution_count": null,
      "metadata": {
        "id": "BEDjyN-oUg2v"
      },
      "outputs": [],
      "source": [
        "# Check the computation graph.\n",
        "# NOTE: when you have multiple runs, remember to choose the correct run to display the graph\n",
        "# %tensorboard --logdir runs\n",
        "#Q4\n",
        "!pip install torchviz\n",
        "\n",
        "import torchviz\n",
        "\n",
        "\n",
        "var1 = torch.tensor(1.0, requires_grad = True)\n",
        "var2 = 5\n",
        "var3 = torch.tensor(3.0, requires_grad = False)\n",
        "\n",
        "var4 = var1 + var2 + var3\n",
        "\n",
        "\n",
        "torchviz.make_dot(var4)"
      ]
    },
    {
      "cell_type": "code",
      "execution_count": 187,
      "metadata": {
        "colab": {
          "base_uri": "https://localhost:8080/",
          "height": 454
        },
        "id": "ig-qPhsCUqRx",
        "outputId": "6796bf7c-d0b3-4e62-a975-7a6ef14df759"
      },
      "outputs": [
        {
          "output_type": "execute_result",
          "data": {
            "image/svg+xml": "<?xml version=\"1.0\" encoding=\"UTF-8\" standalone=\"no\"?>\n<!DOCTYPE svg PUBLIC \"-//W3C//DTD SVG 1.1//EN\"\n \"http://www.w3.org/Graphics/SVG/1.1/DTD/svg11.dtd\">\n<!-- Generated by graphviz version 2.43.0 (0)\n -->\n<!-- Title: %3 Pages: 1 -->\n<svg width=\"228pt\" height=\"325pt\"\n viewBox=\"0.00 0.00 228.00 325.00\" xmlns=\"http://www.w3.org/2000/svg\" xmlns:xlink=\"http://www.w3.org/1999/xlink\">\n<g id=\"graph0\" class=\"graph\" transform=\"scale(1 1) rotate(0) translate(4 321)\">\n<title>%3</title>\n<polygon fill=\"white\" stroke=\"transparent\" points=\"-4,4 -4,-321 224,-321 224,4 -4,4\"/>\n<!-- 140625805460640 -->\n<g id=\"node1\" class=\"node\">\n<title>140625805460640</title>\n<polygon fill=\"#caff70\" stroke=\"black\" points=\"136.5,-31 82.5,-31 82.5,0 136.5,0 136.5,-31\"/>\n<text text-anchor=\"middle\" x=\"109.5\" y=\"-7\" font-family=\"monospace\" font-size=\"10.00\"> ()</text>\n</g>\n<!-- 140625806277552 -->\n<g id=\"node2\" class=\"node\">\n<title>140625806277552</title>\n<polygon fill=\"lightgrey\" stroke=\"black\" points=\"154,-86 65,-86 65,-67 154,-67 154,-86\"/>\n<text text-anchor=\"middle\" x=\"109.5\" y=\"-74\" font-family=\"monospace\" font-size=\"10.00\">SumBackward0</text>\n</g>\n<!-- 140625806277552&#45;&gt;140625805460640 -->\n<g id=\"edge8\" class=\"edge\">\n<title>140625806277552&#45;&gt;140625805460640</title>\n<path fill=\"none\" stroke=\"black\" d=\"M109.5,-66.79C109.5,-60.07 109.5,-50.4 109.5,-41.34\"/>\n<polygon fill=\"black\" stroke=\"black\" points=\"113,-41.19 109.5,-31.19 106,-41.19 113,-41.19\"/>\n</g>\n<!-- 140625806269584 -->\n<g id=\"node3\" class=\"node\">\n<title>140625806269584</title>\n<polygon fill=\"lightgrey\" stroke=\"black\" points=\"154,-141 65,-141 65,-122 154,-122 154,-141\"/>\n<text text-anchor=\"middle\" x=\"109.5\" y=\"-129\" font-family=\"monospace\" font-size=\"10.00\">MulBackward0</text>\n</g>\n<!-- 140625806269584&#45;&gt;140625806277552 -->\n<g id=\"edge1\" class=\"edge\">\n<title>140625806269584&#45;&gt;140625806277552</title>\n<path fill=\"none\" stroke=\"black\" d=\"M109.5,-121.75C109.5,-114.8 109.5,-104.85 109.5,-96.13\"/>\n<polygon fill=\"black\" stroke=\"black\" points=\"113,-96.09 109.5,-86.09 106,-96.09 113,-96.09\"/>\n</g>\n<!-- 140625806278176 -->\n<g id=\"node4\" class=\"node\">\n<title>140625806278176</title>\n<polygon fill=\"lightgrey\" stroke=\"black\" points=\"154,-196 65,-196 65,-177 154,-177 154,-196\"/>\n<text text-anchor=\"middle\" x=\"109.5\" y=\"-184\" font-family=\"monospace\" font-size=\"10.00\">SubBackward0</text>\n</g>\n<!-- 140625806278176&#45;&gt;140625806269584 -->\n<g id=\"edge2\" class=\"edge\">\n<title>140625806278176&#45;&gt;140625806269584</title>\n<path fill=\"none\" stroke=\"black\" d=\"M104.33,-176.75C102.84,-169.8 102.4,-159.85 103.02,-151.13\"/>\n<polygon fill=\"black\" stroke=\"black\" points=\"106.51,-151.47 104.37,-141.09 99.57,-150.53 106.51,-151.47\"/>\n</g>\n<!-- 140625806278176&#45;&gt;140625806269584 -->\n<g id=\"edge7\" class=\"edge\">\n<title>140625806278176&#45;&gt;140625806269584</title>\n<path fill=\"none\" stroke=\"black\" d=\"M114.67,-176.75C116.16,-169.8 116.6,-159.85 115.98,-151.13\"/>\n<polygon fill=\"black\" stroke=\"black\" points=\"119.43,-150.53 114.63,-141.09 112.49,-151.47 119.43,-150.53\"/>\n</g>\n<!-- 140625844150784 -->\n<g id=\"node5\" class=\"node\">\n<title>140625844150784</title>\n<polygon fill=\"lightgrey\" stroke=\"black\" points=\"101,-251 0,-251 0,-232 101,-232 101,-251\"/>\n<text text-anchor=\"middle\" x=\"50.5\" y=\"-239\" font-family=\"monospace\" font-size=\"10.00\">AccumulateGrad</text>\n</g>\n<!-- 140625844150784&#45;&gt;140625806278176 -->\n<g id=\"edge3\" class=\"edge\">\n<title>140625844150784&#45;&gt;140625806278176</title>\n<path fill=\"none\" stroke=\"black\" d=\"M59.98,-231.98C68.7,-224.15 81.84,-212.34 92.4,-202.86\"/>\n<polygon fill=\"black\" stroke=\"black\" points=\"94.75,-205.46 99.85,-196.17 90.07,-200.25 94.75,-205.46\"/>\n</g>\n<!-- 140625849425872 -->\n<g id=\"node6\" class=\"node\">\n<title>140625849425872</title>\n<polygon fill=\"lightblue\" stroke=\"black\" points=\"83,-317 18,-317 18,-287 83,-287 83,-317\"/>\n<text text-anchor=\"middle\" x=\"50.5\" y=\"-305\" font-family=\"monospace\" font-size=\"10.00\">y_values</text>\n<text text-anchor=\"middle\" x=\"50.5\" y=\"-294\" font-family=\"monospace\" font-size=\"10.00\"> (2)</text>\n</g>\n<!-- 140625849425872&#45;&gt;140625844150784 -->\n<g id=\"edge4\" class=\"edge\">\n<title>140625849425872&#45;&gt;140625844150784</title>\n<path fill=\"none\" stroke=\"black\" d=\"M50.5,-286.84C50.5,-279.21 50.5,-269.7 50.5,-261.45\"/>\n<polygon fill=\"black\" stroke=\"black\" points=\"54,-261.27 50.5,-251.27 47,-261.27 54,-261.27\"/>\n</g>\n<!-- 140625844148480 -->\n<g id=\"node7\" class=\"node\">\n<title>140625844148480</title>\n<polygon fill=\"lightgrey\" stroke=\"black\" points=\"220,-251 119,-251 119,-232 220,-232 220,-251\"/>\n<text text-anchor=\"middle\" x=\"169.5\" y=\"-239\" font-family=\"monospace\" font-size=\"10.00\">AccumulateGrad</text>\n</g>\n<!-- 140625844148480&#45;&gt;140625806278176 -->\n<g id=\"edge5\" class=\"edge\">\n<title>140625844148480&#45;&gt;140625806278176</title>\n<path fill=\"none\" stroke=\"black\" d=\"M159.86,-231.98C150.99,-224.15 137.63,-212.34 126.89,-202.86\"/>\n<polygon fill=\"black\" stroke=\"black\" points=\"129.13,-200.17 119.32,-196.17 124.49,-205.41 129.13,-200.17\"/>\n</g>\n<!-- 140625805475360 -->\n<g id=\"node8\" class=\"node\">\n<title>140625805475360</title>\n<polygon fill=\"lightblue\" stroke=\"black\" points=\"214,-317 125,-317 125,-287 214,-287 214,-317\"/>\n<text text-anchor=\"middle\" x=\"169.5\" y=\"-305\" font-family=\"monospace\" font-size=\"10.00\">y_hat_values</text>\n<text text-anchor=\"middle\" x=\"169.5\" y=\"-294\" font-family=\"monospace\" font-size=\"10.00\"> (2)</text>\n</g>\n<!-- 140625805475360&#45;&gt;140625844148480 -->\n<g id=\"edge6\" class=\"edge\">\n<title>140625805475360&#45;&gt;140625844148480</title>\n<path fill=\"none\" stroke=\"black\" d=\"M169.5,-286.84C169.5,-279.21 169.5,-269.7 169.5,-261.45\"/>\n<polygon fill=\"black\" stroke=\"black\" points=\"173,-261.27 169.5,-251.27 166,-261.27 173,-261.27\"/>\n</g>\n</g>\n</svg>\n",
            "text/plain": [
              "<graphviz.graphs.Digraph at 0x7fe5ff5172b0>"
            ]
          },
          "metadata": {},
          "execution_count": 187
        }
      ],
      "source": [
        "#Q5\n",
        "# TODO: please write code to show the computation graph of `loss`.\n",
        "y=torch.tensor([3.0,7.0],requires_grad=True)\n",
        "y_hat=torch.tensor([3.2,7.2],requires_grad=True)\n",
        "loss=loss_func(y,y_hat)\n",
        "\n",
        "torchviz.make_dot(loss,params={'y_values':y,'y_hat_values':y_hat})"
      ]
    },
    {
      "cell_type": "code",
      "execution_count": 188,
      "metadata": {
        "colab": {
          "base_uri": "https://localhost:8080/",
          "height": 0
        },
        "id": "uL3wrFcAU2Kv",
        "outputId": "1dd9cdaf-b2ad-4d47-a8c9-0df67ff8786f"
      },
      "outputs": [
        {
          "output_type": "stream",
          "name": "stdout",
          "text": [
            "[tensor([1.6000, 2.4000]), tensor(0.8000)]\n"
          ]
        }
      ],
      "source": [
        "# Check gradients of parameters\n",
        "\n",
        "x = torch.tensor([[1, 2], [3, 4]], dtype=torch.float32)\n",
        "w = torch.tensor([1, 1], dtype=torch.float32, requires_grad = True)\n",
        "b = torch.tensor(0.2, dtype=torch.float32, requires_grad = True)\n",
        "\n",
        "y_hat = regression_func(x, w, b)\n",
        "loss  = loss_func(y, y_hat)\n",
        "\n",
        "# TODO: uncomment the following line so that torch computes gradients and stores them in `.grad`\n",
        "loss.backward()\n",
        "\n",
        "dl_dwb = [w.grad, b.grad]\n",
        "\n",
        "if w.grad is None or b.grad is None:\n",
        "    raise Exception(\"No gradient is computed for w or b\")\n",
        "\n",
        "# gradient with respect to w and b\n",
        "print(dl_dwb)"
      ]
    },
    {
      "cell_type": "code",
      "execution_count": 189,
      "metadata": {
        "colab": {
          "base_uri": "https://localhost:8080/",
          "height": 0
        },
        "id": "plrufEjPVFd-",
        "outputId": "ccb02fc8-d464-473e-a7ae-bc8d8cafedde"
      },
      "outputs": [
        {
          "output_type": "stream",
          "name": "stdout",
          "text": [
            "tensor([-0.6000, -1.4000], requires_grad=True)\n",
            "tensor(-0.6000, requires_grad=True)\n"
          ]
        }
      ],
      "source": [
        "# Update model parameters in one optimization step\n",
        "# TODO: Can you fix the following to lines, so `w` will be updated by the optimizer ?\n",
        "w = torch.tensor([1, 1], dtype=torch.float32, requires_grad=True)\n",
        "b = torch.tensor(0.2, dtype=torch.float32, requires_grad = True)\n",
        "\n",
        "# note that the learning rate is 1.0\n",
        "optimizer = torch.optim.SGD([w, b], lr=1.0)\n",
        "optimizer.zero_grad()\n",
        "\n",
        "y_hat = regression_func(x, w, b)\n",
        "loss  = loss_func(y, y_hat)\n",
        "\n",
        "loss.backward()\n",
        "\n",
        "optimizer.step()\n",
        "\n",
        "# Check the result below. Note that the calculation is: w <- w - dw * learning_rate;\n",
        "# it is subtraction, not addtion.\n",
        "print(w)\n",
        "print(b)\n",
        "\n",
        "diff = torch.sum(torch.abs(w - torch.tensor([1.0, 1.0])))\n",
        "if diff < 1e-6:\n",
        "    raise Exception(\"w is not updated by the optimizer.\")"
      ]
    },
    {
      "cell_type": "code",
      "execution_count": 190,
      "metadata": {
        "colab": {
          "base_uri": "https://localhost:8080/",
          "height": 676
        },
        "id": "_3LiU7JIKw3-",
        "outputId": "91f666ac-eff7-4500-e18f-80d161a4d68c"
      },
      "outputs": [
        {
          "output_type": "display_data",
          "data": {
            "text/plain": [
              "<Figure size 1000x800 with 1 Axes>"
            ],
            "image/png": "[encoded data removed]"
          },
          "metadata": {}
        }
      ],
      "source": [
        "# plot the data before fitting the model.\n",
        "# numpy values\n",
        "N = 100\n",
        "x_np = np.random.random_sample([N, 1]).astype(np.float32)\n",
        "y_np = (np.squeeze(x_np.dot([[0.3]])) + 1.0 + 0.1 * np.random.random_sample([N])).astype(np.float32)\n",
        "\n",
        "plt.plot(np.squeeze(x_np), y_np, 'o')\n",
        "plt.ylabel('y')\n",
        "plt.ylabel('x')\n",
        "plt.show()\n"
      ]
    },
    {
      "cell_type": "code",
      "execution_count": 192,
      "metadata": {
        "colab": {
          "base_uri": "https://localhost:8080/",
          "height": 0
        },
        "id": "YPcGEFK-KxoA",
        "outputId": "50be5d91-c306-4589-cfb0-7c3bc58cf511"
      },
      "outputs": [
        {
          "output_type": "stream",
          "name": "stdout",
          "text": [
            "Loss becomes tensor(111.1672, grad_fn=<AddBackward0>) after 1 iterations.\n",
            "Loss becomes tensor(0.1729, grad_fn=<AddBackward0>) after 101 iterations.\n",
            "Loss becomes tensor(0.0809, grad_fn=<AddBackward0>) after 201 iterations.\n",
            "Loss becomes tensor(0.0748, grad_fn=<AddBackward0>) after 301 iterations.\n",
            "Loss becomes tensor(0.0744, grad_fn=<AddBackward0>) after 401 iterations.\n",
            "Loss becomes tensor(0.0744, grad_fn=<AddBackward0>) after 501 iterations.\n",
            "Loss becomes tensor(0.0744, grad_fn=<AddBackward0>) after 601 iterations.\n",
            "Loss becomes tensor(0.0744, grad_fn=<AddBackward0>) after 701 iterations.\n",
            "Loss becomes tensor(0.0744, grad_fn=<AddBackward0>) after 801 iterations.\n",
            "Loss becomes tensor(0.0744, grad_fn=<AddBackward0>) after 901 iterations.\n",
            "Loss becomes tensor(0.0744, grad_fn=<AddBackward0>) after 1000 iterations.\n",
            "(w, b) =  (tensor([0.2926], requires_grad=True), tensor(1.0461, requires_grad=True))\n"
          ]
        }
      ],
      "source": [
        "from implementation import train_lr\n",
        "\n",
        "# You may want to use a small lambda the regularization weight\n",
        "lamb = 4000\n",
        "\n",
        "w, b = train_lr(x=x_np, y=y_np, lamb=lamb)\n",
        "\n",
        "print('(w, b) = ', (w, b))\n",
        "\n",
        "# the result should be similar to (0.3, 1.0)"
      ]
    },
    {
      "cell_type": "code",
      "execution_count": 193,
      "metadata": {
        "colab": {
          "base_uri": "https://localhost:8080/",
          "height": 676
        },
        "id": "p5gVcINGK5qp",
        "outputId": "1c309d25-498a-4d87-f90d-1f346456d730"
      },
      "outputs": [
        {
          "output_type": "display_data",
          "data": {
            "text/plain": [
              "<Figure size 1000x800 with 1 Axes>"
            ],
            "image/png": "[encoded data removed]"
          },
          "metadata": {}
        }
      ],
      "source": [
        "# Plot the result\n",
        "\n",
        "w_np = w.detach().numpy()\n",
        "b_np = b.detach().numpy()\n",
        "\n",
        "x_line = np.arange(12) / 10.0\n",
        "y_line = x_line * np.squeeze(w_np) + b_np\n",
        "\n",
        "plt.plot(x_np, y_np, 'o')\n",
        "plt.plot(x_line, y_line)\n",
        "plt.ylabel('y')\n",
        "plt.ylabel('x')\n",
        "plt.show()\n",
        "\n",
        "\n",
        "# Please check whether the trained model fit the data (the line roughly cross data points).\n",
        "# If your model does not fit the data well, your model training is probably not successful.\n"
      ]
    }
  ],
  "metadata": {
    "colab": {
      "provenance": [],
      "authorship_tag": "ABX9TyP9NOwqu/Qu1cHgDw0lKpqC",
      "include_colab_link": true
    },
    "kernelspec": {
      "display_name": "Python 3",
      "name": "python3"
    },
    "language_info": {
      "name": "python"
    }
  },
  "nbformat": 4,
  "nbformat_minor": 0
}